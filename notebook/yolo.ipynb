{
  "nbformat": 4,
  "nbformat_minor": 0,
  "metadata": {
    "colab": {
      "provenance": [],
      "private_outputs": true,
      "include_colab_link": true
    },
    "kernelspec": {
      "name": "python3",
      "display_name": "Python 3"
    },
    "accelerator": "GPU"
  },
  "cells": [
    {
      "cell_type": "markdown",
      "metadata": {
        "id": "view-in-github",
        "colab_type": "text"
      },
      "source": [
        "<a href=\"https://colab.research.google.com/github/eduardokern/ML/blob/yolo/notebook/yolo.ipynb\" target=\"_parent\"><img src=\"https://colab.research.google.com/assets/colab-badge.svg\" alt=\"Open In Colab\"/></a>"
      ]
    },
    {
      "cell_type": "markdown",
      "source": [
        "#Treinamento da rede YOLO\n",
        "\n",
        "Projeto de criação de uma base de dados e treinamento da rede YOLO .\n",
        "\n",
        "Seguindo os exemplos de aula, vamos rotular uma base de dados e aplicar o treinamento com a rede YOLO.\n",
        "\n",
        "Para essa tarefa será necessário utilizar o software LabelMe: http://labelme.csail.mit.edu/Release3.0/ para rotular as imagens.\n",
        "\n",
        "Também será necessário utilizar a rede YOLO, disponível em: https://pjreddie.com/darknet/yolo/.\n",
        "\n",
        "Para quem preferir e não quiser rotular uma base de dados, pode usar as imagens já rotuladas do COCO: https://cocodataset.org/#home.\n",
        "\n",
        "E para quem estiver utilizando um computador que não consiga rodar a rede YOLO, pode utilizar o transfer learning no COLAB: https://colab.research.google.com/drive/1lTGZsfMaGUpBG4inDIQwIJVW476ibXk_#scrollTo=j0t221djS1Gk.\n",
        "\n",
        "O trabalho deve conter pelo menos duas classes retreinadas para detecção, além das classes já treinadas previamente antes de realizar o transfer learning.  "
      ],
      "metadata": {
        "id": "HPLQjcJrpgsa"
      }
    },
    {
      "cell_type": "markdown",
      "metadata": {
        "id": "db68v7TmMTmR"
      },
      "source": [
        "## Check CUDA release version"
      ]
    },
    {
      "cell_type": "code",
      "metadata": {
        "id": "ew5eGbl9MdKL"
      },
      "source": [
        "# This cell can be commented once you checked the current CUDA version\n",
        "# CUDA: Let's check that Nvidia CUDA is already pre-installed and which version is it. In some time from now maybe you\n",
        "!/usr/local/cuda/bin/nvcc --version"
      ],
      "execution_count": null,
      "outputs": []
    },
    {
      "cell_type": "markdown",
      "metadata": {
        "id": "v3nkYzWwMuBk"
      },
      "source": [
        "## Install cuDNN according to the current CUDA version"
      ]
    },
    {
      "cell_type": "code",
      "metadata": {
        "id": "r_A8LDvyM7x5"
      },
      "source": [
        "!wget https://developer.download.nvidia.com/compute/cudnn/redist/cudnn/linux-x86_64/cudnn-linux-x86_64-9.7.0.66_cuda12-archive.tar.xz\n",
        "\n",
        "# We're unzipping the cuDNN files from your Drive folder directly to the VM CUDA folders\n",
        "!tar -xf cudnn-linux-x86_64-9.7.0.66_cuda12-archive.tar.xz --totals\n",
        "\n",
        "!cp -vnpr cudnn-linux-x86_64-9.7.0.66_cuda12-archive/include/* /usr/local/cuda/include\n",
        "!cp -vnpr cudnn-linux-x86_64-9.7.0.66_cuda12-archive/lib /usr/local/cuda\n",
        "\n",
        "!chmod a+r /usr/local/cuda/include/cudnn.h\n",
        "\n",
        "# Now we check the version we already installed. Can comment this line on future runs\n",
        "!cat /usr/local/cuda/include/cudnn.h | grep CUDNN_MAJOR -A 2\n",
        "\n",
        "!rm cudnn-linux-x86_64-9.7.0.66_cuda12-archive.tar.xz\n",
        "!rm -rf cudnn-linux-x86_64-9.7.0.66_cuda12-archive"
      ],
      "execution_count": null,
      "outputs": []
    },
    {
      "cell_type": "markdown",
      "metadata": {
        "id": "9x9BFQOfNowN"
      },
      "source": [
        "## Installing Darknet"
      ]
    },
    {
      "cell_type": "code",
      "metadata": {
        "id": "Pt0Y06QTNyZG"
      },
      "source": [
        "!git clone https://github.com/AlexeyAB/darknet/\n",
        "%cd darknet\n",
        "\n",
        "#Compile Darknet\n",
        "!make"
      ],
      "execution_count": null,
      "outputs": []
    },
    {
      "cell_type": "markdown",
      "metadata": {
        "id": "CD378FjcrurC"
      },
      "source": [
        "## Some Utils\n",
        "\n",
        "* imgShow() - Will help us to show an image in the remote VM"
      ]
    },
    {
      "cell_type": "code",
      "metadata": {
        "id": "WD5FBWmjrsks"
      },
      "source": [
        "#download files\n",
        "def imShow(path):\n",
        "  import cv2\n",
        "  import matplotlib.pyplot as plt\n",
        "  %matplotlib inline\n",
        "\n",
        "  image = cv2.imread(path)\n",
        "  height, width = image.shape[:2]\n",
        "  resized_image = cv2.resize(image,(3*width, 3*height), interpolation = cv2.INTER_CUBIC)\n",
        "\n",
        "  fig = plt.gcf()\n",
        "  fig.set_size_inches(18, 10)\n",
        "  plt.axis(\"off\")\n",
        "  plt.imshow(cv2.cvtColor(resized_image, cv2.COLOR_BGR2RGB))\n",
        "  plt.show()"
      ],
      "execution_count": null,
      "outputs": []
    },
    {
      "cell_type": "code",
      "metadata": {
        "id": "eCou8imNOTTN"
      },
      "source": [
        "# Not necessary cell\n",
        "# Get yolov3 weights\n",
        "!wget https://pjreddie.com/media/files/yolov3.weights"
      ],
      "execution_count": null,
      "outputs": []
    },
    {
      "cell_type": "markdown",
      "metadata": {
        "id": "JvySKrnh2cvG"
      },
      "source": [
        "**NOTE:** The following test only will work when the darknet is compiled in the runtime. This demo uses some data from the original darknet folders. For your Object detection projects, you'll have these necessary files on your local folder."
      ]
    },
    {
      "cell_type": "code",
      "metadata": {
        "id": "op1iEE3bOVR6"
      },
      "source": [
        "# Not necessary cell\n",
        "# Execute darknet using YOLOv3 model with pre-trained weights to detect objects on 'person.jpg'\n",
        "!./darknet detect cfg/yolov3.cfg yolov3.weights data/person.jpg -dont-show\n",
        "\n",
        "# Show the result using the helper imgShow()\n",
        "imShow('predictions.jpg')"
      ],
      "execution_count": null,
      "outputs": []
    },
    {
      "cell_type": "markdown",
      "metadata": {
        "id": "j0t221djS1Gk"
      },
      "source": [
        "# Training YOLO"
      ]
    },
    {
      "cell_type": "code",
      "metadata": {
        "id": "3Pa1Z9cxC290"
      },
      "source": [
        "# Git clone directly to ./img folder\n",
        "#!git clone https://[your-repository] ./img\n",
        "\n",
        "# Check the result - Uncomment when you checked for speed up further runs\n",
        "#!ls -la ./img"
      ],
      "execution_count": null,
      "outputs": []
    },
    {
      "cell_type": "markdown",
      "metadata": {
        "id": "6_4747QHIGZ7"
      },
      "source": [
        "## PART 3. Finally, Train your model!\n",
        "\n",
        "When you execute the following command, your model will start training.\n",
        "\n",
        "You will have a log line per epoch. On each iteration you will see how your training is going.\n",
        "\n",
        "> **TRICK: Darknet copies a backup of your trained weights every 100 iterations. As magic, this file will be synced to your local drive on your computer, as well as the backups darknet do every 1000 iterations, saving it on a separate file.**\n",
        "\n",
        "\n",
        "\n"
      ]
    },
    {
      "cell_type": "code",
      "source": [
        "%cd /content\n",
        "!mkdir data\n",
        "%cd data\n",
        "\n",
        "!bash ../darknet/scripts/get_coco_dataset.sh\n",
        "!ls"
      ],
      "metadata": {
        "id": "07rVahCteAGo"
      },
      "execution_count": null,
      "outputs": []
    },
    {
      "cell_type": "code",
      "source": [
        "%cd /content\n",
        "!cat darknet/cfg/coco.data"
      ],
      "metadata": {
        "id": "O6SDsNAChBtN"
      },
      "execution_count": null,
      "outputs": []
    },
    {
      "cell_type": "code",
      "source": [
        "!wget https://pjreddie.com/media/files/darknet53.conv.74"
      ],
      "metadata": {
        "id": "_aqrncDodQxo"
      },
      "execution_count": null,
      "outputs": []
    },
    {
      "cell_type": "code",
      "metadata": {
        "id": "13fRzkiQiPhW"
      },
      "source": [
        "!./darknet detector train \"./darknet/obj.data\" \"./darknet/yolov3.cfg\" \"./darknet53.conv.74\" -dont_show"
      ],
      "execution_count": null,
      "outputs": []
    }
  ]
}