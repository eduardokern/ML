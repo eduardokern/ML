{
  "nbformat": 4,
  "nbformat_minor": 0,
  "metadata": {
    "colab": {
      "provenance": [],
      "private_outputs": true,
      "include_colab_link": true
    },
    "kernelspec": {
      "name": "python3",
      "display_name": "Python 3"
    },
    "accelerator": "GPU"
  },
  "cells": [
    {
      "cell_type": "markdown",
      "metadata": {
        "id": "view-in-github",
        "colab_type": "text"
      },
      "source": [
        "<a href=\"https://colab.research.google.com/github/eduardokern/ML/blob/yolo/notebook/yolo.ipynb\" target=\"_parent\"><img src=\"https://colab.research.google.com/assets/colab-badge.svg\" alt=\"Open In Colab\"/></a>"
      ]
    },
    {
      "cell_type": "markdown",
      "source": [
        "#Treinamento da rede YOLO\n",
        "\n",
        "Projeto de criação de uma base de dados e treinamento da rede YOLO .\n",
        "\n",
        "Seguindo os exemplos de aula, vamos rotular uma base de dados e aplicar o treinamento com a rede YOLO.\n",
        "\n",
        "Para essa tarefa será necessário utilizar o software LabelMe: http://labelme.csail.mit.edu/Release3.0/ para rotular as imagens.\n",
        "\n",
        "Também será necessário utilizar a rede YOLO, disponível em: https://pjreddie.com/darknet/yolo/.\n",
        "\n",
        "Para quem preferir e não quiser rotular uma base de dados, pode usar as imagens já rotuladas do COCO: https://cocodataset.org/#home.\n",
        "\n",
        "E para quem estiver utilizando um computador que não consiga rodar a rede YOLO, pode utilizar o transfer learning no COLAB: https://colab.research.google.com/drive/1lTGZsfMaGUpBG4inDIQwIJVW476ibXk_#scrollTo=j0t221djS1Gk.\n",
        "\n",
        "O trabalho deve conter pelo menos duas classes retreinadas para detecção, além das classes já treinadas previamente antes de realizar o transfer learning.  "
      ],
      "metadata": {
        "id": "HPLQjcJrpgsa"
      }
    },
    {
      "cell_type": "markdown",
      "metadata": {
        "id": "db68v7TmMTmR"
      },
      "source": [
        "## Check CUDA release version"
      ]
    },
    {
      "cell_type": "code",
      "metadata": {
        "id": "ew5eGbl9MdKL"
      },
      "source": [
        "# This cell can be commented once you checked the current CUDA version\n",
        "# CUDA: Let's check that Nvidia CUDA is already pre-installed and which version is it. In some time from now maybe you\n",
        "!/usr/local/cuda/bin/nvcc --version"
      ],
      "execution_count": null,
      "outputs": []
    },
    {
      "cell_type": "markdown",
      "metadata": {
        "id": "v3nkYzWwMuBk"
      },
      "source": [
        "## Install cuDNN according to the current CUDA version"
      ]
    },
    {
      "cell_type": "code",
      "metadata": {
        "id": "r_A8LDvyM7x5"
      },
      "source": [
        "!wget https://developer.download.nvidia.com/compute/cudnn/redist/cudnn/linux-x86_64/cudnn-linux-x86_64-9.7.0.66_cuda12-archive.tar.xz\n",
        "\n",
        "# We're unzipping the cuDNN files from your Drive folder directly to the VM CUDA folders\n",
        "!tar -xf cudnn-linux-x86_64-9.7.0.66_cuda12-archive.tar.xz --totals\n",
        "\n",
        "!cp -vnpr cudnn-linux-x86_64-9.7.0.66_cuda12-archive/include/* /usr/local/cuda/include\n",
        "!cp -vnpr cudnn-linux-x86_64-9.7.0.66_cuda12-archive/lib /usr/local/cuda\n",
        "\n",
        "!chmod a+r /usr/local/cuda/include/cudnn.h\n",
        "\n",
        "# Now we check the version we already installed. Can comment this line on future runs\n",
        "!cat /usr/local/cuda/include/cudnn.h | grep CUDNN_MAJOR -A 2\n",
        "\n",
        "!rm cudnn-linux-x86_64-9.7.0.66_cuda12-archive.tar.xz\n",
        "!rm -rf cudnn-linux-x86_64-9.7.0.66_cuda12-archive"
      ],
      "execution_count": null,
      "outputs": []
    },
    {
      "cell_type": "markdown",
      "metadata": {
        "id": "9x9BFQOfNowN"
      },
      "source": [
        "## Installing Darknet"
      ]
    },
    {
      "cell_type": "code",
      "metadata": {
        "id": "Pt0Y06QTNyZG"
      },
      "source": [
        "!git clone https://github.com/AlexeyAB/darknet/\n",
        "%cd darknet\n",
        "\n",
        "#Compile Darknet\n",
        "!make"
      ],
      "execution_count": null,
      "outputs": []
    },
    {
      "cell_type": "markdown",
      "metadata": {
        "id": "CD378FjcrurC"
      },
      "source": [
        "## Some Utils\n",
        "\n",
        "* imgShow() - Will help us to show an image in the remote VM"
      ]
    },
    {
      "cell_type": "code",
      "metadata": {
        "id": "WD5FBWmjrsks"
      },
      "source": [
        "#download files\n",
        "def imShow(path):\n",
        "  import cv2\n",
        "  import matplotlib.pyplot as plt\n",
        "  %matplotlib inline\n",
        "\n",
        "  image = cv2.imread(path)\n",
        "  height, width = image.shape[:2]\n",
        "  resized_image = cv2.resize(image,(3*width, 3*height), interpolation = cv2.INTER_CUBIC)\n",
        "\n",
        "  fig = plt.gcf()\n",
        "  fig.set_size_inches(18, 10)\n",
        "  plt.axis(\"off\")\n",
        "  plt.imshow(cv2.cvtColor(resized_image, cv2.COLOR_BGR2RGB))\n",
        "  plt.show()"
      ],
      "execution_count": null,
      "outputs": []
    },
    {
      "cell_type": "code",
      "metadata": {
        "id": "eCou8imNOTTN"
      },
      "source": [
        "# Not necessary cell\n",
        "# Get yolov3 weights\n",
        "!wget https://pjreddie.com/media/files/yolov3.weights"
      ],
      "execution_count": null,
      "outputs": []
    },
    {
      "cell_type": "markdown",
      "metadata": {
        "id": "JvySKrnh2cvG"
      },
      "source": [
        "**NOTE:** The following test only will work when the darknet is compiled in the runtime. This demo uses some data from the original darknet folders. For your Object detection projects, you'll have these necessary files on your local folder."
      ]
    },
    {
      "cell_type": "code",
      "metadata": {
        "id": "op1iEE3bOVR6"
      },
      "source": [
        "# Not necessary cell\n",
        "# Execute darknet using YOLOv3 model with pre-trained weights to detect objects on 'person.jpg'\n",
        "!./darknet detect cfg/yolov3.cfg yolov3.weights data/person.jpg -dont-show\n",
        "\n",
        "# Show the result using the helper imgShow()\n",
        "imShow('predictions.jpg')"
      ],
      "execution_count": null,
      "outputs": []
    },
    {
      "cell_type": "markdown",
      "metadata": {
        "id": "j0t221djS1Gk"
      },
      "source": [
        "# PART 2. Training YOLO\n",
        "\n",
        " > _**TRICK:** Every time you want to run all your cells automatically you can go to the **> Menu > Runtime > run all**. Maybe you don't want to execute the entire notebook. You can write the following cell where you want to stop the process and uncoment the **`assert False`** command. This will throw an error and will stop to run more cells. Thanks to: [This thread](https://groups.google.com/forum/#!topic/jupyter/ELftSFSiedQ)_\n",
        "\n",
        "\n"
      ]
    },
    {
      "cell_type": "markdown",
      "metadata": {
        "id": "wkzMqLZV-rF5"
      },
      "source": [
        "## PART 2. STEP 0. Preparing your data and configuration files\n",
        "\n",
        "Before going further let's take a look at what configuration files you need to have in your local drive _`darknet`_\n",
        "\n",
        "![Yolov3 configuration files cheat sheet.jpg](http://blog.ibanyez.info/download/B20190410T000000072.png)\n",
        "\n",
        "You can download the cheat sheet [here](http://blog.ibanyez.info/download/B20190410T000000072.png)\n",
        "\n",
        "If you need deeper explanations on how to prepare your data sets, annotation and deep learning, visit [How to train YOLOv3 using Darknet framework and optimize the VM runtime load times](post link)\n",
        "\n",
        "\n",
        "> **TRICK:** You have to be carefully configuring paths on your config files. _*obj.data*_ file needs to have spaces on the path escaped with _**\\**_. Like this: **_/content/gdrive/My\\ Drive/darknet/train.txt_**. But, in files **_train.txt_** and **_test.txt_** does not!\n",
        "\n",
        "\n"
      ]
    },
    {
      "cell_type": "markdown",
      "metadata": {
        "id": "dKl1l_NgBn6y"
      },
      "source": [
        "## PART 2. STEP 1. Loading files to VM local drive\n",
        "The network speed between Google Drive and Colab VM can have an impact on your training speed accessing to your dataset images.\n",
        "\n",
        "You can have 3 possible approaches depending on the size of your dataset.\n",
        "\n",
        "> _**NOTE:** This step is not necessary for all the configuration files and weights. They can be accessed directly from Google Drive without considerable performance issues. **This step is only for the dataset images and annotations**_\n",
        "\n",
        "* **Option 1** - You can try  to use directly the files from Google Drive _`img/`_ folder. Depending on your dataset maybe this can be more than good.\n",
        "* **Option 2** - Before start training copy your dataset from Google Drive to the local VM filesystem. Maybe can be a good practice to copy as one single tar file and decompress in your VM local _`img/`_ folder\n",
        "* **Option 3** - If your dataset is quite big, maybe you can upload to a git repository and clone from here. Usually transfer time between are much better. If you have to decide I have the feeling that bitbucket have better speed transfer times than github, but please, don't take this as confirmed, **I haven't done specific tests on that, I could be wrong!**\n",
        "\n",
        "\n"
      ]
    },
    {
      "cell_type": "markdown",
      "metadata": {
        "id": "4Cp5EsZOEBv8"
      },
      "source": [
        "#### PART 2. STEP 1 - Option 1. Using files from Google Drive directly.\n",
        "You don't have to do anything here. Your **_train.txt_** should have the correct path:\n",
        "* **/content/grdive/My Drive/darknet/img/image001.jpg**. As said before, don't use escaped white space for the paths on _**train.txt**_ and _**test.txt**_"
      ]
    },
    {
      "cell_type": "markdown",
      "metadata": {
        "id": "x6zm1GHDF-8_"
      },
      "source": [
        "#### PART 2. STEP 1 - Option 2A. Copying files from Google Drive to VM local filesystem.\n",
        "Execute the follow cell to copy your files"
      ]
    },
    {
      "cell_type": "code",
      "metadata": {
        "id": "WewV3jU3B4Eo"
      },
      "source": [
        "# Copy fils from Google Drive to the VM local filesystem\n",
        "!cp -r \"/content/gdrive/My Drive/darknet/img\" ./img\n"
      ],
      "execution_count": null,
      "outputs": []
    },
    {
      "cell_type": "markdown",
      "metadata": {
        "id": "PhUzh9F-GehW"
      },
      "source": [
        "#### PART 2. STEP 1 - Option 2B. Copying files zipped from Google Drive to VM local filesystem and unzip locally.\n",
        "Execute the follow cell to copy your files and uncompress.\n",
        "You can use _*!ls*_ command to esnure what's the correct path you have to configure in your _*train.txt*_ to correctly access to your dataset images\n"
      ]
    },
    {
      "cell_type": "code",
      "metadata": {
        "id": "vjnV7SDOGpdN"
      },
      "source": [
        "# Copy your compressed file\n",
        "#!cp -r \"/content/gdrive/My Drive/darknet/img/img.tgz\" ./img\n",
        "\n",
        "# Uncompress zipped file\n",
        "#!tar -xzvf ./img/img.tgz"
      ],
      "execution_count": null,
      "outputs": []
    },
    {
      "cell_type": "markdown",
      "metadata": {
        "id": "trq0Nnt9Hdns"
      },
      "source": [
        "#### PART 2. STEP 1 - Option 3. Clone your image dataset from a git repo. Seems the fastest one.\n",
        "Execute the follow cell to clone your dataset repo to VM local filesystem\n"
      ]
    },
    {
      "cell_type": "code",
      "metadata": {
        "id": "3Pa1Z9cxC290"
      },
      "source": [
        "# Git clone directly to ./img folder\n",
        "#!git clone https://[your-repository] ./img\n",
        "\n",
        "# Check the result - Uncomment when you checked for speed up further runs\n",
        "#!ls -la ./img"
      ],
      "execution_count": null,
      "outputs": []
    },
    {
      "cell_type": "markdown",
      "metadata": {
        "id": "6_4747QHIGZ7"
      },
      "source": [
        "## PART 3. Finally, Train your model!\n",
        "\n",
        "When you execute the following command, your model will start training.\n",
        "\n",
        "You will have a log line per epoch. On each iteration you will see how your training is going.\n",
        "\n",
        "> **TRICK: Darknet copies a backup of your trained weights every 100 iterations. As magic, this file will be synced to your local drive on your computer, as well as the backups darknet do every 1000 iterations, saving it on a separate file.**\n",
        "\n",
        "\n",
        "\n"
      ]
    },
    {
      "cell_type": "code",
      "metadata": {
        "id": "13fRzkiQiPhW"
      },
      "source": [
        "!./darknet detector train \"/content/gdrive/My Drive/darknet/obj.data\" \"/content/gdrive/My Drive/darknet/yolov3.cfg\" \"/content/gdrive/My Drive/darknet/darknet53.conv.74\" -dont_show"
      ],
      "execution_count": null,
      "outputs": []
    },
    {
      "cell_type": "markdown",
      "metadata": {
        "id": "0oWYkXA0LtCQ"
      },
      "source": [
        "## PERFORMANCE TIPS & TRICKS\n",
        "\n",
        "* **Speed up load times of the runtime:** When everything is checked that works, you can remove cells or comment unnecessary lines of code to make your loading time lower on every run.\n",
        "\n",
        "* **How to keep your notebook alive for more time?:** Keep you browser with your notebook open. If you close your browser, your notebook will reach the iddle time and will be removed from Colab cloud Service. (90 minutes)\n",
        "  \n",
        "* **Re-run your training after reaching the limitation time for Colab runtimes (12 hours):**\n",
        "  * Open a new notebook or reconnect the current one.\n",
        "  * Comment the cell above and uncomment the cell below.\n",
        "  * In your local computer, copy the file **backup/yolov3_last.weights** to your local computer **weights/** folder.\n",
        "  * Execute Run all in the **> menu > Runtime > Run All**\n",
        "  * _The copy step is not absolutely necessary, but I like to keep a copy of the last training session and not overwrite this file on next trainings._"
      ]
    },
    {
      "cell_type": "code",
      "metadata": {
        "id": "josdFFdVMyj3"
      },
      "source": [
        "# Start training at the point where the last runtime finished\n",
        "#!./darknet detector train \"/content/gdrive/My Drive/darknet/obj.data\" \"/content/gdrive/My Drive/darknet/yolov3.cfg\" \"/content/gdrive/My Drive/darknet/weights/yolov_last.weights\" -dont_show"
      ],
      "execution_count": null,
      "outputs": []
    }
  ]
}