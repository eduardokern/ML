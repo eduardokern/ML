{
  "nbformat": 4,
  "nbformat_minor": 0,
  "metadata": {
    "colab": {
      "provenance": [],
      "private_outputs": true,
      "include_colab_link": true
    },
    "kernelspec": {
      "name": "python3",
      "display_name": "Python 3"
    },
    "accelerator": "GPU"
  },
  "cells": [
    {
      "cell_type": "markdown",
      "metadata": {
        "id": "view-in-github",
        "colab_type": "text"
      },
      "source": [
        "<a href=\"https://colab.research.google.com/github/eduardokern/ML/blob/yolo/notebook/yolo.ipynb\" target=\"_parent\"><img src=\"https://colab.research.google.com/assets/colab-badge.svg\" alt=\"Open In Colab\"/></a>"
      ]
    },
    {
      "cell_type": "markdown",
      "source": [
        "#Treinamento da rede YOLO\n",
        "\n",
        "Projeto de criação de uma base de dados e treinamento da rede YOLO .\n",
        "\n",
        "Seguindo os exemplos de aula, vamos rotular uma base de dados e aplicar o treinamento com a rede YOLO.\n",
        "\n",
        "Para essa tarefa será necessário utilizar o software LabelMe: http://labelme.csail.mit.edu/Release3.0/ para rotular as imagens.\n",
        "\n",
        "Também será necessário utilizar a rede YOLO, disponível em: https://pjreddie.com/darknet/yolo/.\n",
        "\n",
        "Para quem preferir e não quiser rotular uma base de dados, pode usar as imagens já rotuladas do COCO: https://cocodataset.org/#home.\n",
        "\n",
        "E para quem estiver utilizando um computador que não consiga rodar a rede YOLO, pode utilizar o transfer learning no COLAB: https://colab.research.google.com/drive/1lTGZsfMaGUpBG4inDIQwIJVW476ibXk_#scrollTo=j0t221djS1Gk.\n",
        "\n",
        "O trabalho deve conter pelo menos duas classes retreinadas para detecção, além das classes já treinadas previamente antes de realizar o transfer learning.  "
      ],
      "metadata": {
        "id": "HPLQjcJrpgsa"
      }
    },
    {
      "cell_type": "markdown",
      "metadata": {
        "id": "db68v7TmMTmR"
      },
      "source": [
        "## Check CUDA release version"
      ]
    },
    {
      "cell_type": "code",
      "metadata": {
        "id": "ew5eGbl9MdKL"
      },
      "source": [
        "# This cell can be commented once you checked the current CUDA version\n",
        "# CUDA: Let's check that Nvidia CUDA is already pre-installed and which version is it. In some time from now maybe you\n",
        "!/usr/local/cuda/bin/nvcc --version"
      ],
      "execution_count": null,
      "outputs": []
    },
    {
      "cell_type": "markdown",
      "metadata": {
        "id": "v3nkYzWwMuBk"
      },
      "source": [
        "## Install cuDNN according to the current CUDA version"
      ]
    },
    {
      "cell_type": "code",
      "metadata": {
        "id": "r_A8LDvyM7x5"
      },
      "source": [
        "#!sudo apt-get -y install cudnn9-cuda-12\n",
        "\n",
        "!wget https://developer.download.nvidia.com/compute/cudnn/redist/cudnn/linux-x86_64/cudnn-linux-x86_64-9.7.0.66_cuda12-archive.tar.xz\n",
        "\n",
        "# We're unzipping the cuDNN files from your Drive folder directly to the VM CUDA folders\n",
        "!tar -xf cudnn-linux-x86_64-9.7.0.66_cuda12-archive.tar.xz --totals\n",
        "\n",
        "!cp -vnpr cudnn-linux-x86_64-9.7.0.66_cuda12-archive/include/* /usr/local/cuda/include\n",
        "!cp -vnpr cudnn-linux-x86_64-9.7.0.66_cuda12-archive/lib /usr/local/cuda\n",
        "\n",
        "!chmod a+r /usr/local/cuda/include/cudnn.h\n",
        "\n",
        "# Now we check the version we already installed. Can comment this line on future runs\n",
        "!cat /usr/local/cuda/include/cudnn.h | grep CUDNN_MAJOR -A 2\n",
        "\n",
        "!rm cudnn-linux-x86_64-9.7.0.66_cuda12-archive.tar.xz\n",
        "!rm -rf cudnn-linux-x86_64-9.7.0.66_cuda12-archive"
      ],
      "execution_count": null,
      "outputs": []
    },
    {
      "cell_type": "markdown",
      "metadata": {
        "id": "9x9BFQOfNowN"
      },
      "source": [
        "## Installing Darknet"
      ]
    },
    {
      "cell_type": "code",
      "metadata": {
        "id": "Pt0Y06QTNyZG"
      },
      "source": [
        "!git clone https://github.com/AlexeyAB/darknet/\n",
        "%cd /content/darknet\n",
        "\n",
        "#Compile Darknet\n",
        "!make CFLAGS+=-w"
      ],
      "execution_count": null,
      "outputs": []
    },
    {
      "cell_type": "markdown",
      "metadata": {
        "id": "CD378FjcrurC"
      },
      "source": [
        "## Some Utils\n",
        "\n",
        "* imgShow() - Will help us to show an image in the remote VM"
      ]
    },
    {
      "cell_type": "code",
      "metadata": {
        "id": "WD5FBWmjrsks"
      },
      "source": [
        "#download files\n",
        "def imShow(path):\n",
        "  import cv2\n",
        "  import matplotlib.pyplot as plt\n",
        "  %matplotlib inline\n",
        "\n",
        "  image = cv2.imread(path)\n",
        "  height, width = image.shape[:2]\n",
        "  resized_image = cv2.resize(image,(3*width, 3*height), interpolation = cv2.INTER_CUBIC)\n",
        "\n",
        "  fig = plt.gcf()\n",
        "  fig.set_size_inches(18, 10)\n",
        "  plt.axis(\"off\")\n",
        "  plt.imshow(cv2.cvtColor(resized_image, cv2.COLOR_BGR2RGB))\n",
        "  plt.show()"
      ],
      "execution_count": null,
      "outputs": []
    },
    {
      "cell_type": "markdown",
      "source": [
        "## Testing if building process worked"
      ],
      "metadata": {
        "id": "9-3TWbzLz6D_"
      }
    },
    {
      "cell_type": "code",
      "metadata": {
        "id": "eCou8imNOTTN"
      },
      "source": [
        "# Get yolov3 weights\n",
        "!wget https://pjreddie.com/media/files/yolov3.weights"
      ],
      "execution_count": null,
      "outputs": []
    },
    {
      "cell_type": "code",
      "metadata": {
        "id": "op1iEE3bOVR6"
      },
      "source": [
        "# Execute darknet using YOLOv3 model with pre-trained weights to detect objects on 'person.jpg'\n",
        "!./darknet detect cfg/yolov3.cfg yolov3.weights data/person.jpg -dont-show\n",
        "\n",
        "# Show the result using the helper imgShow()\n",
        "imShow('predictions.jpg')"
      ],
      "execution_count": null,
      "outputs": []
    },
    {
      "cell_type": "markdown",
      "metadata": {
        "id": "j0t221djS1Gk"
      },
      "source": [
        "# Training YOLO on a different dataset"
      ]
    },
    {
      "cell_type": "code",
      "source": [
        "%cd /content/data\n",
        "!wget -c https://pjreddie.com/media/files/coco/labels.tgz\n",
        "!tar xf labels.tgz\n"
      ],
      "metadata": {
        "id": "Yxsie7oCyU6a"
      },
      "execution_count": null,
      "outputs": []
    },
    {
      "cell_type": "code",
      "source": [
        "%cd /content\n",
        "!rm -rf coco\n",
        "!mkdir coco\n",
        "%cd coco\n",
        "!mkdir images\n",
        "%cd images\n",
        "\n",
        "#Download COCO images\n",
        "!wget http://images.cocodataset.org/zips/train2014.zip\n",
        "!unzip -q train2014.zip\n",
        "!rm train2014.zip\n",
        "\n",
        "!wget http://images.cocodataset.org/zips/val2014.zip\n",
        "!unzip -q val2014.zip\n",
        "!rm val2014.zip\n",
        "\n",
        "!wget http://images.cocodataset.org/zips/test2014.zip\n",
        "!unzip -q test2014.zip\n",
        "!rm test2014.zip\n",
        "\n",
        "%cd ..\n",
        "\n",
        "# Download COCO Metadata\n",
        "!wget -c https://pjreddie.com/media/files/instances_train-val2014.zip\n",
        "!unzip -q instances_train-val2014.zip\n",
        "\n",
        "!wget -c https://pjreddie.com/media/files/coco/labels.tgz\n",
        "!tar xf labels.tgz\n",
        "\n",
        "!wget -c https://pjreddie.com/media/files/coco/5k.part\n",
        "!wget -c https://pjreddie.com/media/files/coco/trainvalno5k.part\n",
        "\n",
        "# Set Up Image Lists\n",
        "!paste <(awk \"{print \\\"$PWD\\\"}\" <5k.part) 5k.part | tr -d '\\t' > 5k.txt\n",
        "!paste <(awk \"{print \\\"$PWD\\\"}\" <trainvalno5k.part) trainvalno5k.part | tr -d '\\t' > trainvalno5k.txt"
      ],
      "metadata": {
        "id": "NQPZ1whIRW6n"
      },
      "execution_count": null,
      "outputs": []
    },
    {
      "cell_type": "code",
      "source": [
        "from google.colab import drive\n",
        "drive.mount(\"/content/drive\")"
      ],
      "metadata": {
        "id": "odgO_xttrARp"
      },
      "execution_count": null,
      "outputs": []
    },
    {
      "cell_type": "code",
      "metadata": {
        "id": "13fRzkiQiPhW"
      },
      "source": [
        "!/content/darknet/darknet detector train \"/content/drive/MyDrive/Colab/ML/yolo/coco.data\" \"/content/drive/MyDrive/Colab/ML/yolo/yolov3.cfg\" \"/content/drive/MyDrive/Colab/ML/yolo/darknet53.conv.74\" -dont_show"
      ],
      "execution_count": null,
      "outputs": []
    },
    {
      "cell_type": "code",
      "source": [
        "# Execute darknet using YOLOv3 model with new-trained weights to detect objects on a test image\n",
        "!/content/darknet/darknet detect /content/drive/MyDrive/Colab/ML/yolo/yolov3-detect.cfg ./_last.weights /content/coco/images/test2014/COCO_test2014_000000000001 -dont-show\n",
        "\n",
        "# Show the result using the helper imgShow()\n",
        "imShow('predictions.jpg')"
      ],
      "metadata": {
        "id": "P8_YNUp6rjZ6"
      },
      "execution_count": null,
      "outputs": []
    }
  ]
}