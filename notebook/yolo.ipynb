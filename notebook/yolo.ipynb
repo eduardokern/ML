{
  "nbformat": 4,
  "nbformat_minor": 0,
  "metadata": {
    "colab": {
      "provenance": [],
      "private_outputs": true,
      "include_colab_link": true
    },
    "kernelspec": {
      "name": "python3",
      "display_name": "Python 3"
    }
  },
  "cells": [
    {
      "cell_type": "markdown",
      "metadata": {
        "id": "view-in-github",
        "colab_type": "text"
      },
      "source": [
        "<a href=\"https://colab.research.google.com/github/eduardokern/ML/blob/yolo/notebook/yolo.ipynb\" target=\"_parent\"><img src=\"https://colab.research.google.com/assets/colab-badge.svg\" alt=\"Open In Colab\"/></a>"
      ]
    },
    {
      "cell_type": "markdown",
      "source": [
        "#Treinamento da rede YOLO\n",
        "\n",
        "Projeto de criação de uma base de dados e treinamento da rede YOLO .\n",
        "\n",
        "Seguindo os exemplos de aula, vamos rotular uma base de dados e aplicar o treinamento com a rede YOLO.\n",
        "\n",
        "Para essa tarefa será necessário utilizar o software LabelMe: http://labelme.csail.mit.edu/Release3.0/ para rotular as imagens.\n",
        "\n",
        "Também será necessário utilizar a rede YOLO, disponível em: https://pjreddie.com/darknet/yolo/.\n",
        "\n",
        "Para quem preferir e não quiser rotular uma base de dados, pode usar as imagens já rotuladas do COCO: https://cocodataset.org/#home.\n",
        "\n",
        "E para quem estiver utilizando um computador que não consiga rodar a rede YOLO, pode utilizar o transfer learning no COLAB: https://colab.research.google.com/drive/1lTGZsfMaGUpBG4inDIQwIJVW476ibXk_#scrollTo=j0t221djS1Gk.\n",
        "\n",
        "O trabalho deve conter pelo menos duas classes retreinadas para detecção, além das classes já treinadas previamente antes de realizar o transfer learning.  "
      ],
      "metadata": {
        "id": "HPLQjcJrpgsa"
      }
    },
    {
      "cell_type": "markdown",
      "metadata": {
        "id": "db68v7TmMTmR"
      },
      "source": [
        "## Check CUDA release version"
      ]
    },
    {
      "cell_type": "code",
      "source": [
        "%cd /content\n",
        "!wget https://developer.download.nvidia.com/compute/cuda/12.4.1/local_installers/cuda_12.4.1_550.54.15_linux.run\n",
        "!sudo sh cuda_12.4.1_550.54.15_linux.run --silent --toolkit\n",
        "!rm cuda_12.4.1_550.54.15_linux.run"
      ],
      "metadata": {
        "id": "S1XZUG2GKu-_"
      },
      "execution_count": null,
      "outputs": []
    },
    {
      "cell_type": "code",
      "metadata": {
        "id": "ew5eGbl9MdKL"
      },
      "source": [
        "# This cell can be commented once you checked the current CUDA version\n",
        "# CUDA: Let's check that Nvidia CUDA is already pre-installed and which version is it. In some time from now maybe you\n",
        "!/usr/local/cuda/bin/nvcc --version"
      ],
      "execution_count": null,
      "outputs": []
    },
    {
      "cell_type": "markdown",
      "metadata": {
        "id": "v3nkYzWwMuBk"
      },
      "source": [
        "## Install cuDNN according to the current CUDA version"
      ]
    },
    {
      "cell_type": "code",
      "metadata": {
        "id": "r_A8LDvyM7x5"
      },
      "source": [
        "#!sudo apt-get -y install cudnn9-cuda-12\n",
        "\n",
        "!wget https://developer.download.nvidia.com/compute/cudnn/redist/cudnn/linux-x86_64/cudnn-linux-x86_64-9.7.1.26_cuda12-archive.tar.xz\n",
        "\n",
        "# We're unzipping the cuDNN files from your Drive folder directly to the VM CUDA folders\n",
        "!tar -xf cudnn-linux-x86_64-9.7.1.26_cuda12-archive.tar.xz --totals\n",
        "\n",
        "!cp -vnpr cudnn-linux-x86_64-9.7.1.26_cuda12-archive/include/* /usr/local/cuda/include\n",
        "!cp -vnpr cudnn-linux-x86_64-9.7.1.26_cuda12-archive/lib /usr/local/cuda\n",
        "\n",
        "!chmod a+r /usr/local/cuda/include/cudnn.h\n",
        "\n",
        "# Now we check the version we already installed. Can comment this line on future runs\n",
        "!cat /usr/local/cuda/include/cudnn.h | grep CUDNN_MAJOR -A 2\n",
        "\n",
        "!rm cudnn-linux-x86_64-9.7.1.26_cuda12-archive.tar.xz\n",
        "!rm -rf cudnn-linux-x86_64-9.7.1.26_cuda12-archive"
      ],
      "execution_count": null,
      "outputs": []
    },
    {
      "cell_type": "markdown",
      "metadata": {
        "id": "9x9BFQOfNowN"
      },
      "source": [
        "## Installing Darknet"
      ]
    },
    {
      "cell_type": "code",
      "metadata": {
        "id": "Pt0Y06QTNyZG"
      },
      "source": [
        "%cd /content\n",
        "%rm -rf darknet\n",
        "!git clone https://github.com/AlexeyAB/darknet/\n",
        "%cd /content/darknet\n",
        "\n",
        "#Compile Darknet\n",
        "#!make CFLAGS+=-w GPU=1 CUDNN=1 OPENCV=1\n",
        "!make CFLAGS+=-w OPENCV=1"
      ],
      "execution_count": null,
      "outputs": []
    },
    {
      "cell_type": "markdown",
      "metadata": {
        "id": "CD378FjcrurC"
      },
      "source": [
        "## Some Utils\n",
        "\n",
        "* imgShow() - Will help us to show an image in the remote VM"
      ]
    },
    {
      "cell_type": "code",
      "metadata": {
        "id": "WD5FBWmjrsks"
      },
      "source": [
        "#Show image\n",
        "def imShow(path):\n",
        "  import cv2\n",
        "  import matplotlib.pyplot as plt\n",
        "  %matplotlib inline\n",
        "\n",
        "  image = cv2.imread(path)\n",
        "  height, width = image.shape[:2]\n",
        "  resized_image = cv2.resize(image,(3*width, 3*height), interpolation = cv2.INTER_CUBIC)\n",
        "\n",
        "  fig = plt.gcf()\n",
        "  fig.set_size_inches(18, 10)\n",
        "  plt.axis(\"off\")\n",
        "  plt.imshow(cv2.cvtColor(resized_image, cv2.COLOR_BGR2RGB))\n",
        "  plt.show()"
      ],
      "execution_count": null,
      "outputs": []
    },
    {
      "cell_type": "code",
      "source": [
        "from google.colab import drive\n",
        "drive.mount(\"/content/drive\", force_remount=True)"
      ],
      "metadata": {
        "id": "odgO_xttrARp"
      },
      "execution_count": null,
      "outputs": []
    },
    {
      "cell_type": "markdown",
      "source": [
        "## Testing if building process worked"
      ],
      "metadata": {
        "id": "9-3TWbzLz6D_"
      }
    },
    {
      "cell_type": "code",
      "metadata": {
        "id": "op1iEE3bOVR6"
      },
      "source": [
        "# Execute darknet using YOLOv3 model with pre-trained weights to detect objects on 'person.jpg'\n",
        "%cd /content/darknet\n",
        "!./darknet detect cfg/yolov3.cfg /content/drive/MyDrive/Colab/ML/yolo/yolov3.weights data/person.jpg -dont-show\n",
        "\n",
        "# Show the result using the helper imgShow()\n",
        "imShow('predictions.jpg')"
      ],
      "execution_count": null,
      "outputs": []
    },
    {
      "cell_type": "markdown",
      "metadata": {
        "id": "j0t221djS1Gk"
      },
      "source": [
        "# Training YOLO on a different dataset"
      ]
    },
    {
      "cell_type": "code",
      "source": [
        "# Getting a Thermal Dogs and People dataset\n",
        "!rm -rf /content/dataset\n",
        "%cd /content\n",
        "!mkdir dataset\n",
        "%cd dataset\n",
        "!wget \"https://public.roboflow.com/ds/ooFsXJGdSU?key=DcXUs06019\" -O dataset.zip\n",
        "!unzip -q dataset.zip\n",
        "!rm dataset.zip"
      ],
      "metadata": {
        "id": "nmCFOZ-TvPoq"
      },
      "execution_count": null,
      "outputs": []
    },
    {
      "cell_type": "code",
      "source": [
        "# Populate train.txt and valid.txt to be used in Yolo training\n",
        "import glob\n",
        "import os\n",
        "\n",
        "def populate_txt_file(root_path, group):\n",
        "  txt_file = open(f'{root_path}/{group}.txt', 'w')\n",
        "  for file in glob.iglob(os.path.join(root_path, group, '*.jpg')):\n",
        "    txt_file.write(f'{os.path.abspath(file)}\\n')\n",
        "\n",
        "dataset_dir = '/content/dataset'\n",
        "populate_txt_file(dataset_dir, 'train')\n",
        "populate_txt_file(dataset_dir, 'valid')"
      ],
      "metadata": {
        "id": "47Z6GXjU2cjE"
      },
      "execution_count": null,
      "outputs": []
    },
    {
      "cell_type": "code",
      "metadata": {
        "id": "13fRzkiQiPhW"
      },
      "source": [
        "!rm -rf /content/backup\n",
        "!mkdir /content/backup\n",
        "%cd /content\n",
        "\n",
        "#!/content/darknet/darknet detector train /content/drive/MyDrive/Colab/ML/yolo/dataset.data /content/drive/MyDrive/Colab/ML/yolo/yolov3.cfg /content/drive/MyDrive/Colab/ML/yolo/darknet53.conv.74 -dont_show\n",
        "!/content/darknet/darknet detector train /content/drive/MyDrive/Colab/ML/yolo/dataset.data /content/drive/MyDrive/Colab/ML/yolo/yolov3-tiny.cfg /content/drive/MyDrive/Colab/ML/yolo/darknet53.conv.74 -dont_show"
      ],
      "execution_count": null,
      "outputs": []
    },
    {
      "cell_type": "code",
      "source": [
        "# Execute darknet using YOLOv3 model with new-trained weights to detect objects on a test image\n",
        "%cd /content/darknet\n",
        "\n",
        "import subprocess\n",
        "import shutil\n",
        "\n",
        "#yolo_version = 'yolov3'\n",
        "yolo_version = 'yolov3-tiny'\n",
        "\n",
        "cfg_path = '/content/drive/MyDrive/Colab/ML/yolo'\n",
        "#img_test_path = '/content/dataset/test'\n",
        "#backup_path = '/content/backup'\n",
        "img_test_path = '/content/drive/MyDrive/Colab/ML/yolo/test'\n",
        "backup_path = '/content/drive/MyDrive/Colab/ML/yolo'\n",
        "\n",
        "def test_image(img):\n",
        "  cmd = [\n",
        "    './darknet',\n",
        "    'detector',\n",
        "    'test',\n",
        "    f'{cfg_path}/dataset.data',\n",
        "    f'{cfg_path}/{yolo_version}-detect.cfg',\n",
        "    f'{backup_path}/{yolo_version}_final.weights',\n",
        "    f'-dont_show',\n",
        "    f'-ext_output',\n",
        "    f'\"{img_test_path}/{img}\"',\n",
        "  ]\n",
        "  print(f'Detecting {img}...')\n",
        "  result = subprocess.run(cmd, capture_output=True)\n",
        "  print(result.returncode)\n",
        "  print(result.stdout.decode())\n",
        "\n",
        "  predictions_name = f'/content/predictions_{img}'\n",
        "  shutil.copy('./predictions.jpg', f'\"{predictions_name}\"')\n",
        "  imShow(predictions_name)\n",
        "\n",
        "test_image('IMG_0002 4_jpg.rf.6d1c60bf9f8779f13291c0547ea1ff70.jpg')\n",
        "test_image('IMG_0027_jpg.rf.888f9a5d05a43267ac39a7c09cd0fc4b.jpg')\n",
        "test_image('IMG_0106_jpg.rf.a36615f0dcd4336c8340cf7808243766.jpg')\n",
        "!ls"
      ],
      "metadata": {
        "id": "P8_YNUp6rjZ6"
      },
      "execution_count": null,
      "outputs": []
    }
  ]
}